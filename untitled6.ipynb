{
  "nbformat": 4,
  "nbformat_minor": 0,
  "metadata": {
    "colab": {
      "provenance": [],
      "authorship_tag": "ABX9TyN9+30R4/LFz+5rej4F+K6f",
      "include_colab_link": true
    },
    "kernelspec": {
      "name": "python3",
      "display_name": "Python 3"
    },
    "language_info": {
      "name": "python"
    }
  },
  "cells": [
    {
      "cell_type": "markdown",
      "metadata": {
        "id": "view-in-github",
        "colab_type": "text"
      },
      "source": [
        "<a href=\"https://colab.research.google.com/github/Baadjie/N-L-P-chatbot/blob/main/untitled6.ipynb\" target=\"_parent\"><img src=\"https://colab.research.google.com/assets/colab-badge.svg\" alt=\"Open In Colab\"/></a>"
      ]
    },
    {
      "cell_type": "code",
      "execution_count": null,
      "metadata": {
        "colab": {
          "base_uri": "https://localhost:8080/"
        },
        "id": "f3xFnnbTd90F",
        "outputId": "10b8598a-dea6-4e01-8166-0922a8f4cba8"
      },
      "outputs": [
        {
          "output_type": "stream",
          "name": "stderr",
          "text": [
            "/usr/local/lib/python3.10/dist-packages/sklearn/metrics/_classification.py:1531: UndefinedMetricWarning: Precision is ill-defined and being set to 0.0 in labels with no predicted samples. Use `zero_division` parameter to control this behavior.\n",
            "  _warn_prf(average, modifier, f\"{metric.capitalize()} is\", len(result))\n",
            "/usr/local/lib/python3.10/dist-packages/sklearn/metrics/_classification.py:1531: UndefinedMetricWarning: Precision is ill-defined and being set to 0.0 in labels with no predicted samples. Use `zero_division` parameter to control this behavior.\n",
            "  _warn_prf(average, modifier, f\"{metric.capitalize()} is\", len(result))\n",
            "/usr/local/lib/python3.10/dist-packages/sklearn/metrics/_classification.py:1531: UndefinedMetricWarning: Precision is ill-defined and being set to 0.0 in labels with no predicted samples. Use `zero_division` parameter to control this behavior.\n",
            "  _warn_prf(average, modifier, f\"{metric.capitalize()} is\", len(result))\n"
          ]
        },
        {
          "output_type": "stream",
          "name": "stdout",
          "text": [
            "Missing values in the dataset:\n",
            "annotation_id    0\n",
            "annotator        0\n",
            "category         0\n",
            "created_at       0\n",
            "id               0\n",
            "lead_time        0\n",
            "sentiment        0\n",
            "text             0\n",
            "updated_at       0\n",
            "dtype: int64\n",
            "\n",
            "Model Evaluation:\n",
            "              precision    recall  f1-score   support\n",
            "\n",
            "    Negative       0.50      1.00      0.67         2\n",
            "    Positive       0.00      0.00      0.00         2\n",
            "\n",
            "    accuracy                           0.50         4\n",
            "   macro avg       0.25      0.50      0.33         4\n",
            "weighted avg       0.25      0.50      0.33         4\n",
            "\n",
            "Hello! I can analyze the sentiment of news headlines. Type 'exit' to quit.\n",
            "You: Meyiwa\n",
            "Chatbot: Predicted Sentiment: Negative\n",
            "You: makaringe\n",
            "Chatbot: Predicted Sentiment: Positive\n"
          ]
        }
      ],
      "source": [
        "import pandas as pd\n",
        "from sklearn.model_selection import train_test_split\n",
        "from sklearn.feature_extraction.text import TfidfVectorizer\n",
        "from sklearn.linear_model import LogisticRegression\n",
        "from sklearn.metrics import classification_report\n",
        "\n",
        "# Step 1: Load the CSV file\n",
        "df = pd.read_csv('/content/head.csv')\n",
        "\n",
        "# Step 2: Check for missing values in the dataset (optional but good practice)\n",
        "print(\"Missing values in the dataset:\")\n",
        "print(df.isnull().sum())\n",
        "\n",
        "# Step 3: Preprocess the dataset\n",
        "# Extracting relevant columns: 'text' for the headlines, 'sentiment' for labels\n",
        "X = df['text']  # The news headlines\n",
        "y = df['sentiment']  # The sentiment labels (e.g., Positive, Negative, Neutral)\n",
        "\n",
        "# Step 4: Split the dataset into training and testing sets\n",
        "X_train, X_test, y_train, y_test = train_test_split(X, y, test_size=0.2, random_state=42)\n",
        "\n",
        "# Step 5: Convert text data to numerical vectors using TF-IDF\n",
        "tfidf = TfidfVectorizer(stop_words='english', max_features=5000)\n",
        "X_train_tfidf = tfidf.fit_transform(X_train)\n",
        "X_test_tfidf = tfidf.transform(X_test)\n",
        "\n",
        "# Step 6: Train a Logistic Regression model\n",
        "model = LogisticRegression(max_iter=1000)\n",
        "model.fit(X_train_tfidf, y_train)\n",
        "\n",
        "# Step 7: Evaluate the model\n",
        "y_pred = model.predict(X_test_tfidf)\n",
        "print(\"\\nModel Evaluation:\")\n",
        "print(classification_report(y_test, y_pred))\n",
        "\n",
        "# Step 8: Run the chatbot\n",
        "def chatbot():\n",
        "    print(\"Hello! I can analyze the sentiment of news headlines. Type 'exit' to quit.\")\n",
        "\n",
        "    while True:\n",
        "        user_input = input(\"You: \")\n",
        "\n",
        "        # Exit condition\n",
        "        if user_input.lower() == 'exit':\n",
        "            print(\"Goodbye!\")\n",
        "            break\n",
        "\n",
        "        # Check if the headline exists in the dataset\n",
        "        match = df[df['text'].str.contains(user_input, case=False)]\n",
        "\n",
        "        if not match.empty:\n",
        "            # If a match is found, print the sentiment\n",
        "            predicted_sentiment = match.iloc[0]['sentiment']\n",
        "            print(f\"Chatbot: Predicted Sentiment: {predicted_sentiment}\")\n",
        "        else:\n",
        "            print(\"Chatbot: No matching headline found in the dataset.\")\n",
        "\n",
        "# Run the chatbot\n",
        "chatbot()\n"
      ]
    }
  ]
}